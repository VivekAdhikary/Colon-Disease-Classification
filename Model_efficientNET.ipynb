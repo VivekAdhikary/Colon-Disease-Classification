{
 "cells": [
  {
   "cell_type": "code",
   "execution_count": 17,
   "id": "bbd17bff-d00e-4183-a930-ce3be1ef4af0",
   "metadata": {},
   "outputs": [],
   "source": [
    "from tensorflow.keras.preprocessing.image import ImageDataGenerator"
   ]
  },
  {
   "cell_type": "code",
   "execution_count": 19,
   "id": "53984197-20fa-4cc6-b606-4e89f39fc99e",
   "metadata": {},
   "outputs": [],
   "source": [
    "train_datagen = ImageDataGenerator(\n",
    "    rotation_range=40,\n",
    "    width_shift_range=0.2,\n",
    "    height_shift_range=0.2,\n",
    "    shear_range=0.2,\n",
    "    zoom_range=0.2,\n",
    "    horizontal_flip=True,\n",
    "    fill_mode='nearest'\n",
    ")"
   ]
  },
  {
   "cell_type": "code",
   "execution_count": 21,
   "id": "e31e36ec-2890-4f3e-b0ba-54cf1c6dc7ae",
   "metadata": {},
   "outputs": [
    {
     "name": "stdout",
     "output_type": "stream",
     "text": [
      "Found 4600 images belonging to 4 classes.\n",
      "Found 1400 images belonging to 4 classes.\n"
     ]
    }
   ],
   "source": [
    "train_data = train_datagen.flow_from_directory(\"C:/Users/ASUS/Desktop/Model 2/archive/train\",target_size = (224,224),batch_size = 32,class_mode = 'categorical')\n",
    "test_data = train_datagen.flow_from_directory(\"C:/Users/ASUS/Desktop/Model 2/archive/test\",target_size = (224,224),batch_size = 32,class_mode = 'categorical')"
   ]
  },
  {
   "cell_type": "code",
   "execution_count": 23,
   "id": "77e78934-eda6-489d-8d3f-617139c8559d",
   "metadata": {},
   "outputs": [],
   "source": [
    "from tensorflow.keras.applications import EfficientNetB0\n",
    "import tensorflow as tf\n",
    "from tensorflow import keras\n",
    "from tensorflow.keras.layers import Flatten\n",
    "from tensorflow.keras.models import Model"
   ]
  },
  {
   "cell_type": "code",
   "execution_count": 25,
   "id": "ea89a98a-60e7-4e51-9850-9ed1ab386008",
   "metadata": {},
   "outputs": [],
   "source": [
    "Image_size = [224, 224]\n",
    "\n",
    "efficientnet_model = EfficientNetB0(weights='imagenet', include_top=False, input_shape=Image_size + [3])\n",
    "for layer in efficientnet_model.layers:\n",
    "  layer.trainable = False"
   ]
  },
  {
   "cell_type": "code",
   "execution_count": 26,
   "id": "8c75e1ec-f4f1-465d-86a0-dbd86a566fd2",
   "metadata": {},
   "outputs": [],
   "source": [
    "from tensorflow.keras.layers import Dense\n",
    "from tensorflow.keras.activations import softmax\n",
    "from keras.api import activations\n",
    "y = tf.keras.layers.Flatten()(efficientnet_model.output)\n",
    "\n",
    "num_classes = 4  # Adjust based on your dataset\n",
    "\n",
    "final_layer = Dense(num_classes, activation='softmax')(y)\n",
    "\n",
    "efficientnet_model = Model(inputs=efficientnet_model.input, outputs=final_layer)"
   ]
  },
  {
   "cell_type": "code",
   "execution_count": 29,
   "id": "714b8ad9-77b2-417a-b846-5aef5e97e384",
   "metadata": {},
   "outputs": [],
   "source": [
    "loss_weight = 0.01\n",
    "efficientnet_model.compile(optimizer='adam', loss='categorical_crossentropy', metrics=['accuracy'],loss_weights = loss_weight)"
   ]
  },
  {
   "cell_type": "code",
   "execution_count": 33,
   "id": "a91ff016-6aaf-4d0a-b518-031352b3e512",
   "metadata": {},
   "outputs": [
    {
     "name": "stdout",
     "output_type": "stream",
     "text": [
      "Epoch 1/20\n",
      "\u001b[1m144/144\u001b[0m \u001b[32m━━━━━━━━━━━━━━━━━━━━\u001b[0m\u001b[37m\u001b[0m \u001b[1m548s\u001b[0m 4s/step - accuracy: 0.8527 - loss: 0.0077 - val_accuracy: 0.9421 - val_loss: 0.0048\n",
      "Epoch 2/20\n",
      "\u001b[1m144/144\u001b[0m \u001b[32m━━━━━━━━━━━━━━━━━━━━\u001b[0m\u001b[37m\u001b[0m \u001b[1m370s\u001b[0m 2s/step - accuracy: 0.9326 - loss: 0.0055 - val_accuracy: 0.9307 - val_loss: 0.0053\n",
      "Epoch 3/20\n",
      "\u001b[1m144/144\u001b[0m \u001b[32m━━━━━━━━━━━━━━━━━━━━\u001b[0m\u001b[37m\u001b[0m \u001b[1m240s\u001b[0m 2s/step - accuracy: 0.9442 - loss: 0.0047 - val_accuracy: 0.9479 - val_loss: 0.0054\n",
      "Epoch 4/20\n",
      "\u001b[1m144/144\u001b[0m \u001b[32m━━━━━━━━━━━━━━━━━━━━\u001b[0m\u001b[37m\u001b[0m \u001b[1m181s\u001b[0m 1s/step - accuracy: 0.9465 - loss: 0.0061 - val_accuracy: 0.9571 - val_loss: 0.0051\n",
      "Epoch 5/20\n",
      "\u001b[1m144/144\u001b[0m \u001b[32m━━━━━━━━━━━━━━━━━━━━\u001b[0m\u001b[37m\u001b[0m \u001b[1m249s\u001b[0m 2s/step - accuracy: 0.9568 - loss: 0.0051 - val_accuracy: 0.9514 - val_loss: 0.0055\n",
      "Epoch 6/20\n",
      "\u001b[1m144/144\u001b[0m \u001b[32m━━━━━━━━━━━━━━━━━━━━\u001b[0m\u001b[37m\u001b[0m \u001b[1m291s\u001b[0m 2s/step - accuracy: 0.9547 - loss: 0.0053 - val_accuracy: 0.9700 - val_loss: 0.0037\n",
      "Epoch 7/20\n",
      "\u001b[1m144/144\u001b[0m \u001b[32m━━━━━━━━━━━━━━━━━━━━\u001b[0m\u001b[37m\u001b[0m \u001b[1m264s\u001b[0m 2s/step - accuracy: 0.9620 - loss: 0.0051 - val_accuracy: 0.9607 - val_loss: 0.0053\n",
      "Epoch 8/20\n",
      "\u001b[1m144/144\u001b[0m \u001b[32m━━━━━━━━━━━━━━━━━━━━\u001b[0m\u001b[37m\u001b[0m \u001b[1m5013s\u001b[0m 35s/step - accuracy: 0.9656 - loss: 0.0044 - val_accuracy: 0.9664 - val_loss: 0.0038\n",
      "Epoch 9/20\n",
      "\u001b[1m144/144\u001b[0m \u001b[32m━━━━━━━━━━━━━━━━━━━━\u001b[0m\u001b[37m\u001b[0m \u001b[1m269s\u001b[0m 2s/step - accuracy: 0.9695 - loss: 0.0036 - val_accuracy: 0.9614 - val_loss: 0.0053\n"
     ]
    },
    {
     "data": {
      "text/plain": [
       "<keras.src.callbacks.history.History at 0x1e485e87710>"
      ]
     },
     "execution_count": 33,
     "metadata": {},
     "output_type": "execute_result"
    }
   ],
   "source": [
    "model1=efficientnet_model\n",
    "from tensorflow.keras.callbacks import EarlyStopping\n",
    "\n",
    "# Set up early stopping to monitor validation accuracy\n",
    "early_stopping = EarlyStopping(monitor='val_accuracy', patience=3,mode = 'max')\n",
    "\n",
    "# Train the model with early stopping\n",
    "efficientnet_model.fit(train_data, epochs=20, validation_data=test_data,callbacks=[early_stopping])"
   ]
  },
  {
   "cell_type": "code",
   "execution_count": 43,
   "id": "b097bd17-f299-4c0a-828c-7140e0fb7179",
   "metadata": {},
   "outputs": [
    {
     "name": "stdout",
     "output_type": "stream",
     "text": [
      "Epoch 1/100\n",
      "\u001b[1m214/214\u001b[0m \u001b[32m━━━━━━━━━━━━━━━━━━━━\u001b[0m\u001b[37m\u001b[0m \u001b[1m123s\u001b[0m 560ms/step - accuracy: 0.9560 - loss: 0.0069 - val_accuracy: 0.8650 - val_loss: 0.0408\n",
      "Epoch 2/100\n",
      "\u001b[1m214/214\u001b[0m \u001b[32m━━━━━━━━━━━━━━━━━━━━\u001b[0m\u001b[37m\u001b[0m \u001b[1m120s\u001b[0m 552ms/step - accuracy: 0.9683 - loss: 0.0060 - val_accuracy: 0.9187 - val_loss: 0.0221\n",
      "Epoch 3/100\n",
      "\u001b[1m214/214\u001b[0m \u001b[32m━━━━━━━━━━━━━━━━━━━━\u001b[0m\u001b[37m\u001b[0m \u001b[1m122s\u001b[0m 564ms/step - accuracy: 0.9634 - loss: 0.0068 - val_accuracy: 0.8725 - val_loss: 0.0328\n",
      "Epoch 4/100\n",
      "\u001b[1m214/214\u001b[0m \u001b[32m━━━━━━━━━━━━━━━━━━━━\u001b[0m\u001b[37m\u001b[0m \u001b[1m124s\u001b[0m 569ms/step - accuracy: 0.9744 - loss: 0.0042 - val_accuracy: 0.8825 - val_loss: 0.0278\n",
      "Epoch 5/100\n",
      "\u001b[1m214/214\u001b[0m \u001b[32m━━━━━━━━━━━━━━━━━━━━\u001b[0m\u001b[37m\u001b[0m \u001b[1m120s\u001b[0m 554ms/step - accuracy: 0.9752 - loss: 0.0039 - val_accuracy: 0.8788 - val_loss: 0.0394\n",
      "Epoch 6/100\n",
      "\u001b[1m214/214\u001b[0m \u001b[32m━━━━━━━━━━━━━━━━━━━━\u001b[0m\u001b[37m\u001b[0m \u001b[1m121s\u001b[0m 558ms/step - accuracy: 0.9719 - loss: 0.0047 - val_accuracy: 0.9125 - val_loss: 0.0276\n",
      "Epoch 7/100\n",
      "\u001b[1m214/214\u001b[0m \u001b[32m━━━━━━━━━━━━━━━━━━━━\u001b[0m\u001b[37m\u001b[0m \u001b[1m121s\u001b[0m 556ms/step - accuracy: 0.9793 - loss: 0.0037 - val_accuracy: 0.8788 - val_loss: 0.0329\n",
      "Epoch 8/100\n",
      "\u001b[1m214/214\u001b[0m \u001b[32m━━━━━━━━━━━━━━━━━━━━\u001b[0m\u001b[37m\u001b[0m \u001b[1m120s\u001b[0m 554ms/step - accuracy: 0.9714 - loss: 0.0045 - val_accuracy: 0.8900 - val_loss: 0.0360\n",
      "Epoch 9/100\n",
      "\u001b[1m214/214\u001b[0m \u001b[32m━━━━━━━━━━━━━━━━━━━━\u001b[0m\u001b[37m\u001b[0m \u001b[1m120s\u001b[0m 554ms/step - accuracy: 0.9757 - loss: 0.0042 - val_accuracy: 0.8612 - val_loss: 0.0517\n",
      "Epoch 10/100\n",
      "\u001b[1m214/214\u001b[0m \u001b[32m━━━━━━━━━━━━━━━━━━━━\u001b[0m\u001b[37m\u001b[0m \u001b[1m120s\u001b[0m 551ms/step - accuracy: 0.9703 - loss: 0.0062 - val_accuracy: 0.8575 - val_loss: 0.0525\n",
      "Epoch 11/100\n",
      "\u001b[1m214/214\u001b[0m \u001b[32m━━━━━━━━━━━━━━━━━━━━\u001b[0m\u001b[37m\u001b[0m \u001b[1m120s\u001b[0m 554ms/step - accuracy: 0.9681 - loss: 0.0054 - val_accuracy: 0.9050 - val_loss: 0.0275\n",
      "Epoch 12/100\n",
      "\u001b[1m214/214\u001b[0m \u001b[32m━━━━━━━━━━━━━━━━━━━━\u001b[0m\u001b[37m\u001b[0m \u001b[1m120s\u001b[0m 555ms/step - accuracy: 0.9711 - loss: 0.0061 - val_accuracy: 0.8712 - val_loss: 0.0468\n",
      "Epoch 13/100\n",
      "\u001b[1m214/214\u001b[0m \u001b[32m━━━━━━━━━━━━━━━━━━━━\u001b[0m\u001b[37m\u001b[0m \u001b[1m120s\u001b[0m 551ms/step - accuracy: 0.9811 - loss: 0.0038 - val_accuracy: 0.9025 - val_loss: 0.0301\n",
      "Epoch 14/100\n",
      "\u001b[1m214/214\u001b[0m \u001b[32m━━━━━━━━━━━━━━━━━━━━\u001b[0m\u001b[37m\u001b[0m \u001b[1m120s\u001b[0m 551ms/step - accuracy: 0.9747 - loss: 0.0048 - val_accuracy: 0.8650 - val_loss: 0.0489\n",
      "Epoch 15/100\n",
      "\u001b[1m214/214\u001b[0m \u001b[32m━━━━━━━━━━━━━━━━━━━━\u001b[0m\u001b[37m\u001b[0m \u001b[1m120s\u001b[0m 551ms/step - accuracy: 0.9763 - loss: 0.0061 - val_accuracy: 0.9162 - val_loss: 0.0247\n",
      "Epoch 16/100\n",
      "\u001b[1m214/214\u001b[0m \u001b[32m━━━━━━━━━━━━━━━━━━━━\u001b[0m\u001b[37m\u001b[0m \u001b[1m120s\u001b[0m 551ms/step - accuracy: 0.9729 - loss: 0.0068 - val_accuracy: 0.9187 - val_loss: 0.0254\n",
      "Epoch 17/100\n",
      "\u001b[1m214/214\u001b[0m \u001b[32m━━━━━━━━━━━━━━━━━━━━\u001b[0m\u001b[37m\u001b[0m \u001b[1m122s\u001b[0m 561ms/step - accuracy: 0.9679 - loss: 0.0083 - val_accuracy: 0.9212 - val_loss: 0.0291\n",
      "Epoch 18/100\n",
      "\u001b[1m214/214\u001b[0m \u001b[32m━━━━━━━━━━━━━━━━━━━━\u001b[0m\u001b[37m\u001b[0m \u001b[1m121s\u001b[0m 557ms/step - accuracy: 0.9760 - loss: 0.0061 - val_accuracy: 0.8788 - val_loss: 0.0555\n",
      "Epoch 19/100\n",
      "\u001b[1m214/214\u001b[0m \u001b[32m━━━━━━━━━━━━━━━━━━━━\u001b[0m\u001b[37m\u001b[0m \u001b[1m121s\u001b[0m 557ms/step - accuracy: 0.9802 - loss: 0.0042 - val_accuracy: 0.8950 - val_loss: 0.0366\n",
      "Epoch 20/100\n",
      "\u001b[1m214/214\u001b[0m \u001b[32m━━━━━━━━━━━━━━━━━━━━\u001b[0m\u001b[37m\u001b[0m \u001b[1m121s\u001b[0m 556ms/step - accuracy: 0.9813 - loss: 0.0038 - val_accuracy: 0.8900 - val_loss: 0.0478\n",
      "Epoch 21/100\n",
      "\u001b[1m214/214\u001b[0m \u001b[32m━━━━━━━━━━━━━━━━━━━━\u001b[0m\u001b[37m\u001b[0m \u001b[1m120s\u001b[0m 555ms/step - accuracy: 0.9794 - loss: 0.0044 - val_accuracy: 0.9225 - val_loss: 0.0316\n",
      "Epoch 22/100\n",
      "\u001b[1m214/214\u001b[0m \u001b[32m━━━━━━━━━━━━━━━━━━━━\u001b[0m\u001b[37m\u001b[0m \u001b[1m176s\u001b[0m 818ms/step - accuracy: 0.9811 - loss: 0.0036 - val_accuracy: 0.8913 - val_loss: 0.0381\n",
      "Epoch 23/100\n",
      "\u001b[1m214/214\u001b[0m \u001b[32m━━━━━━━━━━━━━━━━━━━━\u001b[0m\u001b[37m\u001b[0m \u001b[1m118s\u001b[0m 543ms/step - accuracy: 0.9813 - loss: 0.0040 - val_accuracy: 0.8975 - val_loss: 0.0463\n",
      "Epoch 24/100\n",
      "\u001b[1m214/214\u001b[0m \u001b[32m━━━━━━━━━━━━━━━━━━━━\u001b[0m\u001b[37m\u001b[0m \u001b[1m118s\u001b[0m 545ms/step - accuracy: 0.9839 - loss: 0.0037 - val_accuracy: 0.9237 - val_loss: 0.0283\n",
      "Epoch 25/100\n",
      "\u001b[1m214/214\u001b[0m \u001b[32m━━━━━━━━━━━━━━━━━━━━\u001b[0m\u001b[37m\u001b[0m \u001b[1m117s\u001b[0m 540ms/step - accuracy: 0.9794 - loss: 0.0039 - val_accuracy: 0.8900 - val_loss: 0.0573\n",
      "Epoch 26/100\n",
      "\u001b[1m214/214\u001b[0m \u001b[32m━━━━━━━━━━━━━━━━━━━━\u001b[0m\u001b[37m\u001b[0m \u001b[1m118s\u001b[0m 542ms/step - accuracy: 0.9817 - loss: 0.0039 - val_accuracy: 0.9050 - val_loss: 0.0357\n",
      "Epoch 27/100\n",
      "\u001b[1m214/214\u001b[0m \u001b[32m━━━━━━━━━━━━━━━━━━━━\u001b[0m\u001b[37m\u001b[0m \u001b[1m118s\u001b[0m 543ms/step - accuracy: 0.9836 - loss: 0.0042 - val_accuracy: 0.9050 - val_loss: 0.0440\n",
      "Epoch 28/100\n",
      "\u001b[1m214/214\u001b[0m \u001b[32m━━━━━━━━━━━━━━━━━━━━\u001b[0m\u001b[37m\u001b[0m \u001b[1m118s\u001b[0m 543ms/step - accuracy: 0.9819 - loss: 0.0035 - val_accuracy: 0.8725 - val_loss: 0.0597\n",
      "Epoch 29/100\n",
      "\u001b[1m214/214\u001b[0m \u001b[32m━━━━━━━━━━━━━━━━━━━━\u001b[0m\u001b[37m\u001b[0m \u001b[1m118s\u001b[0m 542ms/step - accuracy: 0.9860 - loss: 0.0034 - val_accuracy: 0.8975 - val_loss: 0.0370\n",
      "Epoch 30/100\n",
      "\u001b[1m214/214\u001b[0m \u001b[32m━━━━━━━━━━━━━━━━━━━━\u001b[0m\u001b[37m\u001b[0m \u001b[1m118s\u001b[0m 541ms/step - accuracy: 0.9854 - loss: 0.0039 - val_accuracy: 0.9125 - val_loss: 0.0336\n",
      "Epoch 31/100\n",
      "\u001b[1m214/214\u001b[0m \u001b[32m━━━━━━━━━━━━━━━━━━━━\u001b[0m\u001b[37m\u001b[0m \u001b[1m118s\u001b[0m 543ms/step - accuracy: 0.9801 - loss: 0.0049 - val_accuracy: 0.9050 - val_loss: 0.0383\n",
      "Epoch 32/100\n",
      "\u001b[1m214/214\u001b[0m \u001b[32m━━━━━━━━━━━━━━━━━━━━\u001b[0m\u001b[37m\u001b[0m \u001b[1m118s\u001b[0m 542ms/step - accuracy: 0.9825 - loss: 0.0033 - val_accuracy: 0.8863 - val_loss: 0.0575\n",
      "Epoch 33/100\n",
      "\u001b[1m214/214\u001b[0m \u001b[32m━━━━━━━━━━━━━━━━━━━━\u001b[0m\u001b[37m\u001b[0m \u001b[1m117s\u001b[0m 541ms/step - accuracy: 0.9898 - loss: 0.0022 - val_accuracy: 0.8975 - val_loss: 0.0539\n",
      "Epoch 34/100\n",
      "\u001b[1m214/214\u001b[0m \u001b[32m━━━━━━━━━━━━━━━━━━━━\u001b[0m\u001b[37m\u001b[0m \u001b[1m123s\u001b[0m 569ms/step - accuracy: 0.9874 - loss: 0.0036 - val_accuracy: 0.9337 - val_loss: 0.0295\n",
      "Epoch 35/100\n",
      "\u001b[1m214/214\u001b[0m \u001b[32m━━━━━━━━━━━━━━━━━━━━\u001b[0m\u001b[37m\u001b[0m \u001b[1m118s\u001b[0m 543ms/step - accuracy: 0.9782 - loss: 0.0055 - val_accuracy: 0.9075 - val_loss: 0.0395\n",
      "Epoch 36/100\n",
      "\u001b[1m214/214\u001b[0m \u001b[32m━━━━━━━━━━━━━━━━━━━━\u001b[0m\u001b[37m\u001b[0m \u001b[1m118s\u001b[0m 542ms/step - accuracy: 0.9845 - loss: 0.0039 - val_accuracy: 0.9025 - val_loss: 0.0541\n",
      "Epoch 37/100\n",
      "\u001b[1m214/214\u001b[0m \u001b[32m━━━━━━━━━━━━━━━━━━━━\u001b[0m\u001b[37m\u001b[0m \u001b[1m118s\u001b[0m 542ms/step - accuracy: 0.9825 - loss: 0.0047 - val_accuracy: 0.8900 - val_loss: 0.0527\n",
      "Epoch 38/100\n",
      "\u001b[1m214/214\u001b[0m \u001b[32m━━━━━━━━━━━━━━━━━━━━\u001b[0m\u001b[37m\u001b[0m \u001b[1m118s\u001b[0m 543ms/step - accuracy: 0.9899 - loss: 0.0027 - val_accuracy: 0.9150 - val_loss: 0.0390\n",
      "Epoch 39/100\n",
      "\u001b[1m214/214\u001b[0m \u001b[32m━━━━━━━━━━━━━━━━━━━━\u001b[0m\u001b[37m\u001b[0m \u001b[1m117s\u001b[0m 541ms/step - accuracy: 0.9849 - loss: 0.0030 - val_accuracy: 0.9025 - val_loss: 0.0452\n",
      "Epoch 40/100\n",
      "\u001b[1m214/214\u001b[0m \u001b[32m━━━━━━━━━━━━━━━━━━━━\u001b[0m\u001b[37m\u001b[0m \u001b[1m117s\u001b[0m 540ms/step - accuracy: 0.9837 - loss: 0.0053 - val_accuracy: 0.9075 - val_loss: 0.0471\n",
      "Epoch 41/100\n",
      "\u001b[1m214/214\u001b[0m \u001b[32m━━━━━━━━━━━━━━━━━━━━\u001b[0m\u001b[37m\u001b[0m \u001b[1m117s\u001b[0m 539ms/step - accuracy: 0.9851 - loss: 0.0041 - val_accuracy: 0.9250 - val_loss: 0.0400\n",
      "Epoch 42/100\n",
      "\u001b[1m214/214\u001b[0m \u001b[32m━━━━━━━━━━━━━━━━━━━━\u001b[0m\u001b[37m\u001b[0m \u001b[1m117s\u001b[0m 540ms/step - accuracy: 0.9859 - loss: 0.0039 - val_accuracy: 0.9262 - val_loss: 0.0373\n",
      "Epoch 43/100\n",
      "\u001b[1m214/214\u001b[0m \u001b[32m━━━━━━━━━━━━━━━━━━━━\u001b[0m\u001b[37m\u001b[0m \u001b[1m118s\u001b[0m 542ms/step - accuracy: 0.9875 - loss: 0.0029 - val_accuracy: 0.9000 - val_loss: 0.0611\n",
      "Epoch 44/100\n",
      "\u001b[1m214/214\u001b[0m \u001b[32m━━━━━━━━━━━━━━━━━━━━\u001b[0m\u001b[37m\u001b[0m \u001b[1m118s\u001b[0m 542ms/step - accuracy: 0.9883 - loss: 0.0026 - val_accuracy: 0.9250 - val_loss: 0.0349\n",
      "Epoch 45/100\n",
      "\u001b[1m214/214\u001b[0m \u001b[32m━━━━━━━━━━━━━━━━━━━━\u001b[0m\u001b[37m\u001b[0m \u001b[1m118s\u001b[0m 541ms/step - accuracy: 0.9804 - loss: 0.0057 - val_accuracy: 0.9013 - val_loss: 0.0513\n",
      "Epoch 46/100\n",
      "\u001b[1m214/214\u001b[0m \u001b[32m━━━━━━━━━━━━━━━━━━━━\u001b[0m\u001b[37m\u001b[0m \u001b[1m117s\u001b[0m 541ms/step - accuracy: 0.9881 - loss: 0.0024 - val_accuracy: 0.8975 - val_loss: 0.0490\n",
      "Epoch 47/100\n",
      "\u001b[1m214/214\u001b[0m \u001b[32m━━━━━━━━━━━━━━━━━━━━\u001b[0m\u001b[37m\u001b[0m \u001b[1m118s\u001b[0m 545ms/step - accuracy: 0.9850 - loss: 0.0032 - val_accuracy: 0.8763 - val_loss: 0.1000\n",
      "Epoch 48/100\n",
      "\u001b[1m214/214\u001b[0m \u001b[32m━━━━━━━━━━━━━━━━━━━━\u001b[0m\u001b[37m\u001b[0m \u001b[1m120s\u001b[0m 552ms/step - accuracy: 0.9823 - loss: 0.0060 - val_accuracy: 0.9087 - val_loss: 0.0490\n",
      "Epoch 49/100\n",
      "\u001b[1m214/214\u001b[0m \u001b[32m━━━━━━━━━━━━━━━━━━━━\u001b[0m\u001b[37m\u001b[0m \u001b[1m119s\u001b[0m 547ms/step - accuracy: 0.9852 - loss: 0.0031 - val_accuracy: 0.9100 - val_loss: 0.0534\n",
      "Epoch 50/100\n",
      "\u001b[1m214/214\u001b[0m \u001b[32m━━━━━━━━━━━━━━━━━━━━\u001b[0m\u001b[37m\u001b[0m \u001b[1m120s\u001b[0m 555ms/step - accuracy: 0.9845 - loss: 0.0056 - val_accuracy: 0.8975 - val_loss: 0.0505\n",
      "Epoch 51/100\n",
      "\u001b[1m214/214\u001b[0m \u001b[32m━━━━━━━━━━━━━━━━━━━━\u001b[0m\u001b[37m\u001b[0m \u001b[1m121s\u001b[0m 556ms/step - accuracy: 0.9828 - loss: 0.0065 - val_accuracy: 0.9112 - val_loss: 0.0430\n",
      "Epoch 52/100\n",
      "\u001b[1m214/214\u001b[0m \u001b[32m━━━━━━━━━━━━━━━━━━━━\u001b[0m\u001b[37m\u001b[0m \u001b[1m121s\u001b[0m 556ms/step - accuracy: 0.9888 - loss: 0.0032 - val_accuracy: 0.8637 - val_loss: 0.0800\n",
      "Epoch 53/100\n",
      "\u001b[1m214/214\u001b[0m \u001b[32m━━━━━━━━━━━━━━━━━━━━\u001b[0m\u001b[37m\u001b[0m \u001b[1m122s\u001b[0m 562ms/step - accuracy: 0.9815 - loss: 0.0045 - val_accuracy: 0.8950 - val_loss: 0.0523\n",
      "Epoch 54/100\n",
      "\u001b[1m214/214\u001b[0m \u001b[32m━━━━━━━━━━━━━━━━━━━━\u001b[0m\u001b[37m\u001b[0m \u001b[1m119s\u001b[0m 549ms/step - accuracy: 0.9878 - loss: 0.0047 - val_accuracy: 0.9000 - val_loss: 0.0586\n",
      "Epoch 55/100\n",
      "\u001b[1m214/214\u001b[0m \u001b[32m━━━━━━━━━━━━━━━━━━━━\u001b[0m\u001b[37m\u001b[0m \u001b[1m117s\u001b[0m 537ms/step - accuracy: 0.9856 - loss: 0.0027 - val_accuracy: 0.8825 - val_loss: 0.0796\n",
      "Epoch 56/100\n",
      "\u001b[1m214/214\u001b[0m \u001b[32m━━━━━━━━━━━━━━━━━━━━\u001b[0m\u001b[37m\u001b[0m \u001b[1m119s\u001b[0m 548ms/step - accuracy: 0.9849 - loss: 0.0044 - val_accuracy: 0.8863 - val_loss: 0.0661\n",
      "Epoch 57/100\n",
      "\u001b[1m214/214\u001b[0m \u001b[32m━━━━━━━━━━━━━━━━━━━━\u001b[0m\u001b[37m\u001b[0m \u001b[1m121s\u001b[0m 557ms/step - accuracy: 0.9900 - loss: 0.0042 - val_accuracy: 0.9237 - val_loss: 0.0380\n",
      "Epoch 58/100\n",
      "\u001b[1m214/214\u001b[0m \u001b[32m━━━━━━━━━━━━━━━━━━━━\u001b[0m\u001b[37m\u001b[0m \u001b[1m119s\u001b[0m 551ms/step - accuracy: 0.9871 - loss: 0.0037 - val_accuracy: 0.8725 - val_loss: 0.0947\n",
      "Epoch 59/100\n",
      "\u001b[1m214/214\u001b[0m \u001b[32m━━━━━━━━━━━━━━━━━━━━\u001b[0m\u001b[37m\u001b[0m \u001b[1m119s\u001b[0m 549ms/step - accuracy: 0.9805 - loss: 0.0075 - val_accuracy: 0.8925 - val_loss: 0.0603\n",
      "Epoch 60/100\n",
      "\u001b[1m214/214\u001b[0m \u001b[32m━━━━━━━━━━━━━━━━━━━━\u001b[0m\u001b[37m\u001b[0m \u001b[1m118s\u001b[0m 541ms/step - accuracy: 0.9853 - loss: 0.0041 - val_accuracy: 0.9212 - val_loss: 0.0449\n",
      "Epoch 61/100\n",
      "\u001b[1m214/214\u001b[0m \u001b[32m━━━━━━━━━━━━━━━━━━━━\u001b[0m\u001b[37m\u001b[0m \u001b[1m117s\u001b[0m 537ms/step - accuracy: 0.9879 - loss: 0.0043 - val_accuracy: 0.9162 - val_loss: 0.0491\n",
      "Epoch 62/100\n",
      "\u001b[1m214/214\u001b[0m \u001b[32m━━━━━━━━━━━━━━━━━━━━\u001b[0m\u001b[37m\u001b[0m \u001b[1m117s\u001b[0m 537ms/step - accuracy: 0.9898 - loss: 0.0046 - val_accuracy: 0.8712 - val_loss: 0.0745\n",
      "Epoch 63/100\n",
      "\u001b[1m214/214\u001b[0m \u001b[32m━━━━━━━━━━━━━━━━━━━━\u001b[0m\u001b[37m\u001b[0m \u001b[1m117s\u001b[0m 537ms/step - accuracy: 0.9922 - loss: 0.0021 - val_accuracy: 0.8913 - val_loss: 0.0608\n",
      "Epoch 64/100\n",
      "\u001b[1m214/214\u001b[0m \u001b[32m━━━━━━━━━━━━━━━━━━━━\u001b[0m\u001b[37m\u001b[0m \u001b[1m117s\u001b[0m 538ms/step - accuracy: 0.9834 - loss: 0.0063 - val_accuracy: 0.9112 - val_loss: 0.0562\n",
      "Epoch 65/100\n",
      "\u001b[1m214/214\u001b[0m \u001b[32m━━━━━━━━━━━━━━━━━━━━\u001b[0m\u001b[37m\u001b[0m \u001b[1m117s\u001b[0m 536ms/step - accuracy: 0.9881 - loss: 0.0024 - val_accuracy: 0.9100 - val_loss: 0.0448\n",
      "Epoch 66/100\n",
      "\u001b[1m214/214\u001b[0m \u001b[32m━━━━━━━━━━━━━━━━━━━━\u001b[0m\u001b[37m\u001b[0m \u001b[1m117s\u001b[0m 537ms/step - accuracy: 0.9841 - loss: 0.0041 - val_accuracy: 0.9212 - val_loss: 0.0350\n",
      "Epoch 67/100\n",
      "\u001b[1m214/214\u001b[0m \u001b[32m━━━━━━━━━━━━━━━━━━━━\u001b[0m\u001b[37m\u001b[0m \u001b[1m117s\u001b[0m 537ms/step - accuracy: 0.9882 - loss: 0.0032 - val_accuracy: 0.8813 - val_loss: 0.0906\n",
      "Epoch 68/100\n",
      "\u001b[1m214/214\u001b[0m \u001b[32m━━━━━━━━━━━━━━━━━━━━\u001b[0m\u001b[37m\u001b[0m \u001b[1m119s\u001b[0m 547ms/step - accuracy: 0.9890 - loss: 0.0037 - val_accuracy: 0.8900 - val_loss: 0.0655\n",
      "Epoch 69/100\n",
      "\u001b[1m214/214\u001b[0m \u001b[32m━━━━━━━━━━━━━━━━━━━━\u001b[0m\u001b[37m\u001b[0m \u001b[1m117s\u001b[0m 538ms/step - accuracy: 0.9919 - loss: 0.0030 - val_accuracy: 0.9013 - val_loss: 0.0643\n",
      "Epoch 70/100\n",
      "\u001b[1m214/214\u001b[0m \u001b[32m━━━━━━━━━━━━━━━━━━━━\u001b[0m\u001b[37m\u001b[0m \u001b[1m117s\u001b[0m 537ms/step - accuracy: 0.9900 - loss: 0.0033 - val_accuracy: 0.9000 - val_loss: 0.0584\n",
      "Epoch 71/100\n",
      "\u001b[1m214/214\u001b[0m \u001b[32m━━━━━━━━━━━━━━━━━━━━\u001b[0m\u001b[37m\u001b[0m \u001b[1m117s\u001b[0m 537ms/step - accuracy: 0.9887 - loss: 0.0060 - val_accuracy: 0.9062 - val_loss: 0.0497\n",
      "Epoch 72/100\n",
      "\u001b[1m214/214\u001b[0m \u001b[32m━━━━━━━━━━━━━━━━━━━━\u001b[0m\u001b[37m\u001b[0m \u001b[1m117s\u001b[0m 537ms/step - accuracy: 0.9909 - loss: 0.0021 - val_accuracy: 0.8725 - val_loss: 0.0875\n",
      "Epoch 73/100\n",
      "\u001b[1m214/214\u001b[0m \u001b[32m━━━━━━━━━━━━━━━━━━━━\u001b[0m\u001b[37m\u001b[0m \u001b[1m117s\u001b[0m 537ms/step - accuracy: 0.9902 - loss: 0.0023 - val_accuracy: 0.8913 - val_loss: 0.0821\n",
      "Epoch 74/100\n",
      "\u001b[1m214/214\u001b[0m \u001b[32m━━━━━━━━━━━━━━━━━━━━\u001b[0m\u001b[37m\u001b[0m \u001b[1m117s\u001b[0m 538ms/step - accuracy: 0.9891 - loss: 0.0029 - val_accuracy: 0.9275 - val_loss: 0.0572\n",
      "Epoch 75/100\n",
      "\u001b[1m214/214\u001b[0m \u001b[32m━━━━━━━━━━━━━━━━━━━━\u001b[0m\u001b[37m\u001b[0m \u001b[1m116s\u001b[0m 537ms/step - accuracy: 0.9848 - loss: 0.0047 - val_accuracy: 0.8825 - val_loss: 0.0915\n",
      "Epoch 76/100\n",
      "\u001b[1m214/214\u001b[0m \u001b[32m━━━━━━━━━━━━━━━━━━━━\u001b[0m\u001b[37m\u001b[0m \u001b[1m116s\u001b[0m 535ms/step - accuracy: 0.9855 - loss: 0.0038 - val_accuracy: 0.9187 - val_loss: 0.0410\n",
      "Epoch 77/100\n",
      "\u001b[1m214/214\u001b[0m \u001b[32m━━━━━━━━━━━━━━━━━━━━\u001b[0m\u001b[37m\u001b[0m \u001b[1m116s\u001b[0m 535ms/step - accuracy: 0.9854 - loss: 0.0042 - val_accuracy: 0.9175 - val_loss: 0.0540\n",
      "Epoch 78/100\n",
      "\u001b[1m214/214\u001b[0m \u001b[32m━━━━━━━━━━━━━━━━━━━━\u001b[0m\u001b[37m\u001b[0m \u001b[1m117s\u001b[0m 537ms/step - accuracy: 0.9860 - loss: 0.0040 - val_accuracy: 0.8888 - val_loss: 0.0663\n",
      "Epoch 79/100\n",
      "\u001b[1m214/214\u001b[0m \u001b[32m━━━━━━━━━━━━━━━━━━━━\u001b[0m\u001b[37m\u001b[0m \u001b[1m117s\u001b[0m 537ms/step - accuracy: 0.9903 - loss: 0.0032 - val_accuracy: 0.8913 - val_loss: 0.0732\n",
      "Epoch 80/100\n",
      "\u001b[1m214/214\u001b[0m \u001b[32m━━━━━━━━━━━━━━━━━━━━\u001b[0m\u001b[37m\u001b[0m \u001b[1m117s\u001b[0m 537ms/step - accuracy: 0.9897 - loss: 0.0035 - val_accuracy: 0.8775 - val_loss: 0.0806\n",
      "Epoch 81/100\n",
      "\u001b[1m214/214\u001b[0m \u001b[32m━━━━━━━━━━━━━━━━━━━━\u001b[0m\u001b[37m\u001b[0m \u001b[1m116s\u001b[0m 536ms/step - accuracy: 0.9855 - loss: 0.0043 - val_accuracy: 0.8988 - val_loss: 0.0743\n",
      "Epoch 82/100\n",
      "\u001b[1m214/214\u001b[0m \u001b[32m━━━━━━━━━━━━━━━━━━━━\u001b[0m\u001b[37m\u001b[0m \u001b[1m117s\u001b[0m 537ms/step - accuracy: 0.9887 - loss: 0.0041 - val_accuracy: 0.8913 - val_loss: 0.0680\n",
      "Epoch 83/100\n",
      "\u001b[1m214/214\u001b[0m \u001b[32m━━━━━━━━━━━━━━━━━━━━\u001b[0m\u001b[37m\u001b[0m \u001b[1m116s\u001b[0m 536ms/step - accuracy: 0.9914 - loss: 0.0033 - val_accuracy: 0.9137 - val_loss: 0.0573\n",
      "Epoch 84/100\n",
      "\u001b[1m214/214\u001b[0m \u001b[32m━━━━━━━━━━━━━━━━━━━━\u001b[0m\u001b[37m\u001b[0m \u001b[1m117s\u001b[0m 536ms/step - accuracy: 0.9912 - loss: 0.0014 - val_accuracy: 0.9137 - val_loss: 0.0542\n",
      "Epoch 85/100\n",
      "\u001b[1m214/214\u001b[0m \u001b[32m━━━━━━━━━━━━━━━━━━━━\u001b[0m\u001b[37m\u001b[0m \u001b[1m116s\u001b[0m 536ms/step - accuracy: 0.9866 - loss: 0.0063 - val_accuracy: 0.9237 - val_loss: 0.0459\n",
      "Epoch 86/100\n",
      "\u001b[1m214/214\u001b[0m \u001b[32m━━━━━━━━━━━━━━━━━━━━\u001b[0m\u001b[37m\u001b[0m \u001b[1m116s\u001b[0m 536ms/step - accuracy: 0.9876 - loss: 0.0037 - val_accuracy: 0.9212 - val_loss: 0.0458\n",
      "Epoch 87/100\n",
      "\u001b[1m214/214\u001b[0m \u001b[32m━━━━━━━━━━━━━━━━━━━━\u001b[0m\u001b[37m\u001b[0m \u001b[1m116s\u001b[0m 536ms/step - accuracy: 0.9925 - loss: 0.0018 - val_accuracy: 0.9337 - val_loss: 0.0395\n",
      "Epoch 88/100\n",
      "\u001b[1m214/214\u001b[0m \u001b[32m━━━━━━━━━━━━━━━━━━━━\u001b[0m\u001b[37m\u001b[0m \u001b[1m116s\u001b[0m 534ms/step - accuracy: 0.9888 - loss: 0.0035 - val_accuracy: 0.8975 - val_loss: 0.0660\n",
      "Epoch 89/100\n",
      "\u001b[1m214/214\u001b[0m \u001b[32m━━━━━━━━━━━━━━━━━━━━\u001b[0m\u001b[37m\u001b[0m \u001b[1m116s\u001b[0m 536ms/step - accuracy: 0.9855 - loss: 0.0051 - val_accuracy: 0.9000 - val_loss: 0.0755\n",
      "Epoch 90/100\n",
      "\u001b[1m214/214\u001b[0m \u001b[32m━━━━━━━━━━━━━━━━━━━━\u001b[0m\u001b[37m\u001b[0m \u001b[1m116s\u001b[0m 536ms/step - accuracy: 0.9892 - loss: 0.0035 - val_accuracy: 0.9087 - val_loss: 0.0767\n",
      "Epoch 91/100\n",
      "\u001b[1m214/214\u001b[0m \u001b[32m━━━━━━━━━━━━━━━━━━━━\u001b[0m\u001b[37m\u001b[0m \u001b[1m116s\u001b[0m 536ms/step - accuracy: 0.9850 - loss: 0.0060 - val_accuracy: 0.9312 - val_loss: 0.0393\n",
      "Epoch 92/100\n",
      "\u001b[1m214/214\u001b[0m \u001b[32m━━━━━━━━━━━━━━━━━━━━\u001b[0m\u001b[37m\u001b[0m \u001b[1m117s\u001b[0m 537ms/step - accuracy: 0.9866 - loss: 0.0050 - val_accuracy: 0.8838 - val_loss: 0.0911\n",
      "Epoch 93/100\n",
      "\u001b[1m214/214\u001b[0m \u001b[32m━━━━━━━━━━━━━━━━━━━━\u001b[0m\u001b[37m\u001b[0m \u001b[1m116s\u001b[0m 536ms/step - accuracy: 0.9912 - loss: 0.0035 - val_accuracy: 0.9187 - val_loss: 0.0465\n",
      "Epoch 94/100\n",
      "\u001b[1m214/214\u001b[0m \u001b[32m━━━━━━━━━━━━━━━━━━━━\u001b[0m\u001b[37m\u001b[0m \u001b[1m117s\u001b[0m 537ms/step - accuracy: 0.9921 - loss: 0.0026 - val_accuracy: 0.9038 - val_loss: 0.0582\n",
      "Epoch 95/100\n",
      "\u001b[1m214/214\u001b[0m \u001b[32m━━━━━━━━━━━━━━━━━━━━\u001b[0m\u001b[37m\u001b[0m \u001b[1m117s\u001b[0m 538ms/step - accuracy: 0.9925 - loss: 0.0031 - val_accuracy: 0.8938 - val_loss: 0.0680\n",
      "Epoch 96/100\n",
      "\u001b[1m214/214\u001b[0m \u001b[32m━━━━━━━━━━━━━━━━━━━━\u001b[0m\u001b[37m\u001b[0m \u001b[1m117s\u001b[0m 537ms/step - accuracy: 0.9843 - loss: 0.0057 - val_accuracy: 0.9162 - val_loss: 0.0624\n",
      "Epoch 97/100\n",
      "\u001b[1m214/214\u001b[0m \u001b[32m━━━━━━━━━━━━━━━━━━━━\u001b[0m\u001b[37m\u001b[0m \u001b[1m117s\u001b[0m 537ms/step - accuracy: 0.9911 - loss: 0.0025 - val_accuracy: 0.8813 - val_loss: 0.0938\n",
      "Epoch 98/100\n",
      "\u001b[1m214/214\u001b[0m \u001b[32m━━━━━━━━━━━━━━━━━━━━\u001b[0m\u001b[37m\u001b[0m \u001b[1m117s\u001b[0m 537ms/step - accuracy: 0.9856 - loss: 0.0049 - val_accuracy: 0.8788 - val_loss: 0.0807\n",
      "Epoch 99/100\n",
      "\u001b[1m214/214\u001b[0m \u001b[32m━━━━━━━━━━━━━━━━━━━━\u001b[0m\u001b[37m\u001b[0m \u001b[1m117s\u001b[0m 537ms/step - accuracy: 0.9898 - loss: 0.0038 - val_accuracy: 0.8737 - val_loss: 0.0962\n",
      "Epoch 100/100\n",
      "\u001b[1m214/214\u001b[0m \u001b[32m━━━━━━━━━━━━━━━━━━━━\u001b[0m\u001b[37m\u001b[0m \u001b[1m117s\u001b[0m 537ms/step - accuracy: 0.9908 - loss: 0.0044 - val_accuracy: 0.9000 - val_loss: 0.0654\n"
     ]
    },
    {
     "data": {
      "text/plain": [
       "<keras.src.callbacks.history.History at 0x1f9ceb2b9e0>"
      ]
     },
     "execution_count": 43,
     "metadata": {},
     "output_type": "execute_result"
    }
   ],
   "source": [
    "from tensorflow.keras.callbacks import EarlyStopping\n",
    "\n",
    "# Set up early stopping to monitor validation accuracy\n",
    "#early_stopping = EarlyStopping(monitor='val_accuracy', patience=2,mode = 'max')\n",
    "\n",
    "# Train the model with early stopping\n",
    "efficientnet_model.fit(train_data, epochs=100, validation_data=test_data)"
   ]
  },
  {
   "cell_type": "code",
   "execution_count": 35,
   "id": "a25ed910-dd63-47da-91d9-fc13582b1b76",
   "metadata": {},
   "outputs": [
    {
     "name": "stderr",
     "output_type": "stream",
     "text": [
      "WARNING:absl:You are saving your model as an HDF5 file via `model.save()` or `keras.saving.save_model(model)`. This file format is considered legacy. We recommend using instead the native Keras format, e.g. `model.save('my_model.keras')` or `keras.saving.save_model(model, 'my_model.keras')`. \n"
     ]
    }
   ],
   "source": [
    "efficientnet_model.save('fnet.h5')"
   ]
  },
  {
   "cell_type": "code",
   "execution_count": 37,
   "id": "a0ba8db2-e9f2-415f-8baa-9d4f75fa5c99",
   "metadata": {},
   "outputs": [],
   "source": [
    "from keras.preprocessing import image\n",
    "from keras.applications.vgg16 import preprocess_input\n",
    "from tensorflow.keras.preprocessing.image import load_img, img_to_array\n",
    "import numpy as np"
   ]
  },
  {
   "cell_type": "code",
   "execution_count": 57,
   "id": "c10699b1-896a-46d9-90bd-1e4809fed454",
   "metadata": {},
   "outputs": [
    {
     "name": "stdout",
     "output_type": "stream",
     "text": [
      "\u001b[1m1/1\u001b[0m \u001b[32m━━━━━━━━━━━━━━━━━━━━\u001b[0m\u001b[37m\u001b[0m \u001b[1m0s\u001b[0m 88ms/step\n"
     ]
    },
    {
     "data": {
      "text/plain": [
       "array([[0.0000000e+00, 1.0000000e+00, 2.2049256e-18, 4.6578206e-15]],\n",
       "      dtype=float32)"
      ]
     },
     "execution_count": 57,
     "metadata": {},
     "output_type": "execute_result"
    }
   ],
   "source": [
    "labels = ['0_normal','1_ulcerative_colitis','2_polyps','3_esophagitis']\n",
    "img_path = \"C:/Users/ASUS/Downloads/Colonoscopy2.jpg\"  # Replace with your image path\n",
    "#\"C:/Users/DNIN/Desktop/machine learning tutorial/test/1_ulcerative_colitis/test_ulcer_ (174).jpg\"\n",
    "img = load_img(img_path, target_size=(224,224))\n",
    "x = img_to_array(img)\n",
    "x = preprocess_input(x)\n",
    "preds = efficientnet_model.predict(np.array([x]))\n",
    "preds"
   ]
  },
  {
   "cell_type": "code",
   "execution_count": 59,
   "id": "4a78de51-df3c-491e-b888-fbb93ae77bd2",
   "metadata": {},
   "outputs": [
    {
     "data": {
      "text/plain": [
       "'1_ulcerative_colitis'"
      ]
     },
     "execution_count": 59,
     "metadata": {},
     "output_type": "execute_result"
    }
   ],
   "source": [
    "labels[np.argmax(preds)]"
   ]
  },
  {
   "cell_type": "code",
   "execution_count": null,
   "id": "d2594b6b-a036-41be-818d-d1cf1e4e2384",
   "metadata": {},
   "outputs": [],
   "source": []
  }
 ],
 "metadata": {
  "kernelspec": {
   "display_name": "Python 3 (ipykernel)",
   "language": "python",
   "name": "python3"
  },
  "language_info": {
   "codemirror_mode": {
    "name": "ipython",
    "version": 3
   },
   "file_extension": ".py",
   "mimetype": "text/x-python",
   "name": "python",
   "nbconvert_exporter": "python",
   "pygments_lexer": "ipython3",
   "version": "3.12.4"
  }
 },
 "nbformat": 4,
 "nbformat_minor": 5
}
